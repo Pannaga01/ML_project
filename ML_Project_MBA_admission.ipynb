{
  "nbformat": 4,
  "nbformat_minor": 0,
  "metadata": {
    "colab": {
      "name": "ML Project MBA admission.ipynb",
      "provenance": [],
      "collapsed_sections": [],
      "include_colab_link": true
    },
    "kernelspec": {
      "name": "python3",
      "display_name": "Python 3"
    },
    "language_info": {
      "name": "python"
    }
  },
  "cells": [
    {
      "cell_type": "markdown",
      "metadata": {
        "id": "view-in-github",
        "colab_type": "text"
      },
      "source": [
        "<a href=\"https://colab.research.google.com/github/Pannaga01/ML_project/blob/main/ML_Project_MBA_admission.ipynb\" target=\"_parent\"><img src=\"https://colab.research.google.com/assets/colab-badge.svg\" alt=\"Open In Colab\"/></a>"
      ]
    },
    {
      "cell_type": "markdown",
      "metadata": {
        "id": "LEivWseCgITY"
      },
      "source": [
        "**ML PROJECT**\n",
        "\n",
        "PANNAGA SREYA UKKALAM\n",
        "\n",
        "AM.EN.U4CSE19258\n"
      ]
    },
    {
      "cell_type": "markdown",
      "metadata": {
        "id": "hgq-1Uphgclo"
      },
      "source": [
        "**MBA ADMISSION - MULTICLASSIFICATION**\n",
        "\n",
        "This dataset is of MBA admission. it has data on percentage in 10h, 12th, degree, age gender, marital status, place they belong to, part of the country etc. it also has information on which specialization in mba they belong to. here i am trying to establish relationship between various features followed by various factors that are linked to specialization they belong to."
      ]
    },
    {
      "cell_type": "code",
      "metadata": {
        "id": "VZYUIo73YosQ"
      },
      "source": [
        "# using pandas, numpy, sklearn(for algos and metrics), seaborn(graphs) \n",
        "import pandas as pd\n",
        "import numpy as np\n",
        "import sklearn\n",
        "import seaborn as sns"
      ],
      "execution_count": null,
      "outputs": []
    },
    {
      "cell_type": "code",
      "metadata": {
        "colab": {
          "resources": {
            "http://localhost:8080/nbextensions/google.colab/files.js": {
              "data": "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",
              "ok": true,
              "headers": [
                [
                  "content-type",
                  "application/javascript"
                ]
              ],
              "status": 200,
              "status_text": ""
            }
          },
          "base_uri": "https://localhost:8080/",
          "height": 72
        },
        "id": "4g_2dQmhEsN3",
        "outputId": "933c201d-a97b-4fcd-93b6-f540650d57f5"
      },
      "source": [
        "from google.colab import files\n",
        "uploaded = files.upload()"
      ],
      "execution_count": null,
      "outputs": [
        {
          "output_type": "display_data",
          "data": {
            "text/html": [
              "\n",
              "     <input type=\"file\" id=\"files-660b13c8-ffb6-46fa-aaad-60ccb215d2a4\" name=\"files[]\" multiple disabled\n",
              "        style=\"border:none\" />\n",
              "     <output id=\"result-660b13c8-ffb6-46fa-aaad-60ccb215d2a4\">\n",
              "      Upload widget is only available when the cell has been executed in the\n",
              "      current browser session. Please rerun this cell to enable.\n",
              "      </output>\n",
              "      <script src=\"/nbextensions/google.colab/files.js\"></script> "
            ],
            "text/plain": [
              "<IPython.core.display.HTML object>"
            ]
          },
          "metadata": {}
        },
        {
          "output_type": "stream",
          "name": "stdout",
          "text": [
            "Saving MBA_ADMISSIONS.csv to MBA_ADMISSIONS.csv\n"
          ]
        }
      ]
    },
    {
      "cell_type": "code",
      "metadata": {
        "id": "dcFQfOx_Y68Y"
      },
      "source": [
        "dataset = pd.read_csv('/content/MBA_ADMISSIONS.csv')"
      ],
      "execution_count": null,
      "outputs": []
    },
    {
      "cell_type": "code",
      "metadata": {
        "colab": {
          "base_uri": "https://localhost:8080/",
          "height": 309
        },
        "id": "aa5PrbkqZC7A",
        "outputId": "02317419-7c7d-4a58-dd2f-53a9c6d66b60"
      },
      "source": [
        "dataset.head()\n",
        "#dataset.Previous_Degree.unique()"
      ],
      "execution_count": null,
      "outputs": [
        {
          "output_type": "execute_result",
          "data": {
            "text/html": [
              "<div>\n",
              "<style scoped>\n",
              "    .dataframe tbody tr th:only-of-type {\n",
              "        vertical-align: middle;\n",
              "    }\n",
              "\n",
              "    .dataframe tbody tr th {\n",
              "        vertical-align: top;\n",
              "    }\n",
              "\n",
              "    .dataframe thead th {\n",
              "        text-align: right;\n",
              "    }\n",
              "</style>\n",
              "<table border=\"1\" class=\"dataframe\">\n",
              "  <thead>\n",
              "    <tr style=\"text-align: right;\">\n",
              "      <th></th>\n",
              "      <th>pre_score</th>\n",
              "      <th>Age_in_years</th>\n",
              "      <th>Percentage_in_10_Class</th>\n",
              "      <th>Percentage_in_12_Class</th>\n",
              "      <th>Percentage_in_Under_Graduate</th>\n",
              "      <th>percentage_MBA</th>\n",
              "      <th>post_score</th>\n",
              "      <th>Gender</th>\n",
              "      <th>STATE</th>\n",
              "      <th>Previous_Degree</th>\n",
              "      <th>Marital_status</th>\n",
              "      <th>Place_you_belong_to</th>\n",
              "      <th>perceived#Job#Skill</th>\n",
              "      <th>Specialization</th>\n",
              "    </tr>\n",
              "  </thead>\n",
              "  <tbody>\n",
              "    <tr>\n",
              "      <th>0</th>\n",
              "      <td>75.000000</td>\n",
              "      <td>22</td>\n",
              "      <td>71.0</td>\n",
              "      <td>74.8</td>\n",
              "      <td>72.00</td>\n",
              "      <td>61.00</td>\n",
              "      <td>83.333333</td>\n",
              "      <td>Male</td>\n",
              "      <td>Central Zone</td>\n",
              "      <td>Engineering</td>\n",
              "      <td>Single</td>\n",
              "      <td>Urban</td>\n",
              "      <td>prefered skills</td>\n",
              "      <td>Marketing</td>\n",
              "    </tr>\n",
              "    <tr>\n",
              "      <th>1</th>\n",
              "      <td>71.666667</td>\n",
              "      <td>25</td>\n",
              "      <td>77.6</td>\n",
              "      <td>82.6</td>\n",
              "      <td>76.90</td>\n",
              "      <td>66.85</td>\n",
              "      <td>76.666667</td>\n",
              "      <td>Male</td>\n",
              "      <td>Central Zone</td>\n",
              "      <td>Engineering</td>\n",
              "      <td>Single</td>\n",
              "      <td>Semi Urban</td>\n",
              "      <td>prefered skills</td>\n",
              "      <td>LOS</td>\n",
              "    </tr>\n",
              "    <tr>\n",
              "      <th>2</th>\n",
              "      <td>76.666667</td>\n",
              "      <td>26</td>\n",
              "      <td>93.2</td>\n",
              "      <td>83.8</td>\n",
              "      <td>77.00</td>\n",
              "      <td>74.97</td>\n",
              "      <td>75.000000</td>\n",
              "      <td>Female</td>\n",
              "      <td>Central Zone</td>\n",
              "      <td>Engineering</td>\n",
              "      <td>Single</td>\n",
              "      <td>Urban</td>\n",
              "      <td>desired skills</td>\n",
              "      <td>Finance</td>\n",
              "    </tr>\n",
              "    <tr>\n",
              "      <th>3</th>\n",
              "      <td>66.666667</td>\n",
              "      <td>22</td>\n",
              "      <td>91.2</td>\n",
              "      <td>80.0</td>\n",
              "      <td>67.00</td>\n",
              "      <td>68.30</td>\n",
              "      <td>60.000000</td>\n",
              "      <td>Male</td>\n",
              "      <td>Central Zone</td>\n",
              "      <td>Commerce</td>\n",
              "      <td>Single</td>\n",
              "      <td>Semi Urban</td>\n",
              "      <td>prefered skills</td>\n",
              "      <td>Finance</td>\n",
              "    </tr>\n",
              "    <tr>\n",
              "      <th>4</th>\n",
              "      <td>71.666667</td>\n",
              "      <td>24</td>\n",
              "      <td>79.8</td>\n",
              "      <td>61.6</td>\n",
              "      <td>60.33</td>\n",
              "      <td>69.28</td>\n",
              "      <td>76.666667</td>\n",
              "      <td>Female</td>\n",
              "      <td>Central Zone</td>\n",
              "      <td>Engineering</td>\n",
              "      <td>Single</td>\n",
              "      <td>Urban</td>\n",
              "      <td>prefered skills</td>\n",
              "      <td>Finance</td>\n",
              "    </tr>\n",
              "  </tbody>\n",
              "</table>\n",
              "</div>"
            ],
            "text/plain": [
              "   pre_score  Age_in_years  ...  perceived#Job#Skill  Specialization\n",
              "0  75.000000            22  ...      prefered skills       Marketing\n",
              "1  71.666667            25  ...      prefered skills             LOS\n",
              "2  76.666667            26  ...       desired skills         Finance\n",
              "3  66.666667            22  ...      prefered skills         Finance\n",
              "4  71.666667            24  ...      prefered skills         Finance\n",
              "\n",
              "[5 rows x 14 columns]"
            ]
          },
          "metadata": {},
          "execution_count": 4
        }
      ]
    },
    {
      "cell_type": "code",
      "metadata": {
        "colab": {
          "base_uri": "https://localhost:8080/"
        },
        "id": "9brvsnmCZHf3",
        "outputId": "fd5a146c-a923-421b-9687-7e6c54bb0bf7"
      },
      "source": [
        "dataset.info()"
      ],
      "execution_count": null,
      "outputs": [
        {
          "output_type": "stream",
          "name": "stdout",
          "text": [
            "<class 'pandas.core.frame.DataFrame'>\n",
            "RangeIndex: 473 entries, 0 to 472\n",
            "Data columns (total 14 columns):\n",
            " #   Column                        Non-Null Count  Dtype  \n",
            "---  ------                        --------------  -----  \n",
            " 0   pre_score                     473 non-null    float64\n",
            " 1   Age_in_years                  473 non-null    int64  \n",
            " 2   Percentage_in_10_Class        473 non-null    float64\n",
            " 3   Percentage_in_12_Class        473 non-null    float64\n",
            " 4   Percentage_in_Under_Graduate  473 non-null    float64\n",
            " 5   percentage_MBA                473 non-null    float64\n",
            " 6   post_score                    473 non-null    float64\n",
            " 7   Gender                        473 non-null    object \n",
            " 8   STATE                         473 non-null    object \n",
            " 9   Previous_Degree               473 non-null    object \n",
            " 10  Marital_status                473 non-null    object \n",
            " 11  Place_you_belong_to           473 non-null    object \n",
            " 12  perceived#Job#Skill           473 non-null    object \n",
            " 13  Specialization                473 non-null    object \n",
            "dtypes: float64(6), int64(1), object(7)\n",
            "memory usage: 51.9+ KB\n"
          ]
        }
      ]
    },
    {
      "cell_type": "code",
      "metadata": {
        "colab": {
          "base_uri": "https://localhost:8080/"
        },
        "id": "cq8rQcShZMBh",
        "outputId": "0d1aa7b7-810a-4f05-c7ff-ca702d067a9d"
      },
      "source": [
        "object_col = []\n",
        "numerical_col = []\n",
        "for col in dataset.columns:\n",
        "  if dataset[col].dtype == 'object':\n",
        "    object_col.append(col)\n",
        "  if dataset[col].dtype == 'int64' or dataset[col].dtype == 'float64':\n",
        "    numerical_col.append(col)\n",
        "print(object_col)\n",
        "print(numerical_col)\n",
        "#checking which cols are of the type object and which are int/float"
      ],
      "execution_count": null,
      "outputs": [
        {
          "output_type": "stream",
          "name": "stdout",
          "text": [
            "['Gender', 'STATE', 'Previous_Degree', 'Marital_status', 'Place_you_belong_to', 'perceived#Job#Skill', 'Specialization']\n",
            "['pre_score', 'Age_in_years', 'Percentage_in_10_Class', 'Percentage_in_12_Class', 'Percentage_in_Under_Graduate', 'percentage_MBA', 'post_score']\n"
          ]
        }
      ]
    },
    {
      "cell_type": "code",
      "metadata": {
        "id": "Fmjpho6SZYpH"
      },
      "source": [
        "from sklearn.preprocessing import OrdinalEncoder\n",
        "ordinal_encoder = OrdinalEncoder()\n",
        "train_data = pd.DataFrame(ordinal_encoder.fit_transform(dataset[object_col]))\n",
        "#converting object datatype to float"
      ],
      "execution_count": null,
      "outputs": []
    },
    {
      "cell_type": "code",
      "metadata": {
        "id": "ZkDOujU_aEsP"
      },
      "source": [
        "train_data.columns = object_col #adding th changed cols to dataframe"
      ],
      "execution_count": null,
      "outputs": []
    },
    {
      "cell_type": "code",
      "metadata": {
        "colab": {
          "base_uri": "https://localhost:8080/",
          "height": 204
        },
        "id": "JEod76DxaJZf",
        "outputId": "a39206b0-3919-4d56-b866-cdcb0aa1c656"
      },
      "source": [
        "train_data.head()\n",
        "#train_data[\"Previous_Degree\"].unique()"
      ],
      "execution_count": null,
      "outputs": [
        {
          "output_type": "execute_result",
          "data": {
            "text/html": [
              "<div>\n",
              "<style scoped>\n",
              "    .dataframe tbody tr th:only-of-type {\n",
              "        vertical-align: middle;\n",
              "    }\n",
              "\n",
              "    .dataframe tbody tr th {\n",
              "        vertical-align: top;\n",
              "    }\n",
              "\n",
              "    .dataframe thead th {\n",
              "        text-align: right;\n",
              "    }\n",
              "</style>\n",
              "<table border=\"1\" class=\"dataframe\">\n",
              "  <thead>\n",
              "    <tr style=\"text-align: right;\">\n",
              "      <th></th>\n",
              "      <th>Gender</th>\n",
              "      <th>STATE</th>\n",
              "      <th>Previous_Degree</th>\n",
              "      <th>Marital_status</th>\n",
              "      <th>Place_you_belong_to</th>\n",
              "      <th>perceived#Job#Skill</th>\n",
              "      <th>Specialization</th>\n",
              "    </tr>\n",
              "  </thead>\n",
              "  <tbody>\n",
              "    <tr>\n",
              "      <th>0</th>\n",
              "      <td>1.0</td>\n",
              "      <td>0.0</td>\n",
              "      <td>2.0</td>\n",
              "      <td>1.0</td>\n",
              "      <td>2.0</td>\n",
              "      <td>1.0</td>\n",
              "      <td>3.0</td>\n",
              "    </tr>\n",
              "    <tr>\n",
              "      <th>1</th>\n",
              "      <td>1.0</td>\n",
              "      <td>0.0</td>\n",
              "      <td>2.0</td>\n",
              "      <td>1.0</td>\n",
              "      <td>1.0</td>\n",
              "      <td>1.0</td>\n",
              "      <td>2.0</td>\n",
              "    </tr>\n",
              "    <tr>\n",
              "      <th>2</th>\n",
              "      <td>0.0</td>\n",
              "      <td>0.0</td>\n",
              "      <td>2.0</td>\n",
              "      <td>1.0</td>\n",
              "      <td>2.0</td>\n",
              "      <td>0.0</td>\n",
              "      <td>0.0</td>\n",
              "    </tr>\n",
              "    <tr>\n",
              "      <th>3</th>\n",
              "      <td>1.0</td>\n",
              "      <td>0.0</td>\n",
              "      <td>1.0</td>\n",
              "      <td>1.0</td>\n",
              "      <td>1.0</td>\n",
              "      <td>1.0</td>\n",
              "      <td>0.0</td>\n",
              "    </tr>\n",
              "    <tr>\n",
              "      <th>4</th>\n",
              "      <td>0.0</td>\n",
              "      <td>0.0</td>\n",
              "      <td>2.0</td>\n",
              "      <td>1.0</td>\n",
              "      <td>2.0</td>\n",
              "      <td>1.0</td>\n",
              "      <td>0.0</td>\n",
              "    </tr>\n",
              "  </tbody>\n",
              "</table>\n",
              "</div>"
            ],
            "text/plain": [
              "   Gender  STATE  ...  perceived#Job#Skill  Specialization\n",
              "0     1.0    0.0  ...                  1.0             3.0\n",
              "1     1.0    0.0  ...                  1.0             2.0\n",
              "2     0.0    0.0  ...                  0.0             0.0\n",
              "3     1.0    0.0  ...                  1.0             0.0\n",
              "4     0.0    0.0  ...                  1.0             0.0\n",
              "\n",
              "[5 rows x 7 columns]"
            ]
          },
          "metadata": {},
          "execution_count": 9
        }
      ]
    },
    {
      "cell_type": "code",
      "metadata": {
        "id": "0BFOQOkraMZe"
      },
      "source": [
        "train_data[numerical_col] = dataset[numerical_col]"
      ],
      "execution_count": null,
      "outputs": []
    },
    {
      "cell_type": "code",
      "metadata": {
        "colab": {
          "base_uri": "https://localhost:8080/",
          "height": 224
        },
        "id": "T-9qduR3aQnn",
        "outputId": "53be793a-5f88-47e8-d890-27f3c9b054f9"
      },
      "source": [
        "train_data.head()"
      ],
      "execution_count": null,
      "outputs": [
        {
          "output_type": "execute_result",
          "data": {
            "text/html": [
              "<div>\n",
              "<style scoped>\n",
              "    .dataframe tbody tr th:only-of-type {\n",
              "        vertical-align: middle;\n",
              "    }\n",
              "\n",
              "    .dataframe tbody tr th {\n",
              "        vertical-align: top;\n",
              "    }\n",
              "\n",
              "    .dataframe thead th {\n",
              "        text-align: right;\n",
              "    }\n",
              "</style>\n",
              "<table border=\"1\" class=\"dataframe\">\n",
              "  <thead>\n",
              "    <tr style=\"text-align: right;\">\n",
              "      <th></th>\n",
              "      <th>Gender</th>\n",
              "      <th>STATE</th>\n",
              "      <th>Previous_Degree</th>\n",
              "      <th>Marital_status</th>\n",
              "      <th>Place_you_belong_to</th>\n",
              "      <th>perceived#Job#Skill</th>\n",
              "      <th>Specialization</th>\n",
              "      <th>pre_score</th>\n",
              "      <th>Age_in_years</th>\n",
              "      <th>Percentage_in_10_Class</th>\n",
              "      <th>Percentage_in_12_Class</th>\n",
              "      <th>Percentage_in_Under_Graduate</th>\n",
              "      <th>percentage_MBA</th>\n",
              "      <th>post_score</th>\n",
              "    </tr>\n",
              "  </thead>\n",
              "  <tbody>\n",
              "    <tr>\n",
              "      <th>0</th>\n",
              "      <td>1.0</td>\n",
              "      <td>0.0</td>\n",
              "      <td>2.0</td>\n",
              "      <td>1.0</td>\n",
              "      <td>2.0</td>\n",
              "      <td>1.0</td>\n",
              "      <td>3.0</td>\n",
              "      <td>75.000000</td>\n",
              "      <td>22</td>\n",
              "      <td>71.0</td>\n",
              "      <td>74.8</td>\n",
              "      <td>72.00</td>\n",
              "      <td>61.00</td>\n",
              "      <td>83.333333</td>\n",
              "    </tr>\n",
              "    <tr>\n",
              "      <th>1</th>\n",
              "      <td>1.0</td>\n",
              "      <td>0.0</td>\n",
              "      <td>2.0</td>\n",
              "      <td>1.0</td>\n",
              "      <td>1.0</td>\n",
              "      <td>1.0</td>\n",
              "      <td>2.0</td>\n",
              "      <td>71.666667</td>\n",
              "      <td>25</td>\n",
              "      <td>77.6</td>\n",
              "      <td>82.6</td>\n",
              "      <td>76.90</td>\n",
              "      <td>66.85</td>\n",
              "      <td>76.666667</td>\n",
              "    </tr>\n",
              "    <tr>\n",
              "      <th>2</th>\n",
              "      <td>0.0</td>\n",
              "      <td>0.0</td>\n",
              "      <td>2.0</td>\n",
              "      <td>1.0</td>\n",
              "      <td>2.0</td>\n",
              "      <td>0.0</td>\n",
              "      <td>0.0</td>\n",
              "      <td>76.666667</td>\n",
              "      <td>26</td>\n",
              "      <td>93.2</td>\n",
              "      <td>83.8</td>\n",
              "      <td>77.00</td>\n",
              "      <td>74.97</td>\n",
              "      <td>75.000000</td>\n",
              "    </tr>\n",
              "    <tr>\n",
              "      <th>3</th>\n",
              "      <td>1.0</td>\n",
              "      <td>0.0</td>\n",
              "      <td>1.0</td>\n",
              "      <td>1.0</td>\n",
              "      <td>1.0</td>\n",
              "      <td>1.0</td>\n",
              "      <td>0.0</td>\n",
              "      <td>66.666667</td>\n",
              "      <td>22</td>\n",
              "      <td>91.2</td>\n",
              "      <td>80.0</td>\n",
              "      <td>67.00</td>\n",
              "      <td>68.30</td>\n",
              "      <td>60.000000</td>\n",
              "    </tr>\n",
              "    <tr>\n",
              "      <th>4</th>\n",
              "      <td>0.0</td>\n",
              "      <td>0.0</td>\n",
              "      <td>2.0</td>\n",
              "      <td>1.0</td>\n",
              "      <td>2.0</td>\n",
              "      <td>1.0</td>\n",
              "      <td>0.0</td>\n",
              "      <td>71.666667</td>\n",
              "      <td>24</td>\n",
              "      <td>79.8</td>\n",
              "      <td>61.6</td>\n",
              "      <td>60.33</td>\n",
              "      <td>69.28</td>\n",
              "      <td>76.666667</td>\n",
              "    </tr>\n",
              "  </tbody>\n",
              "</table>\n",
              "</div>"
            ],
            "text/plain": [
              "   Gender  STATE  ...  percentage_MBA  post_score\n",
              "0     1.0    0.0  ...           61.00   83.333333\n",
              "1     1.0    0.0  ...           66.85   76.666667\n",
              "2     0.0    0.0  ...           74.97   75.000000\n",
              "3     1.0    0.0  ...           68.30   60.000000\n",
              "4     0.0    0.0  ...           69.28   76.666667\n",
              "\n",
              "[5 rows x 14 columns]"
            ]
          },
          "metadata": {},
          "execution_count": 11
        }
      ]
    },
    {
      "cell_type": "code",
      "metadata": {
        "id": "5aql8JyWFhas"
      },
      "source": [
        "import matplotlib.pyplot as plt\n"
      ],
      "execution_count": null,
      "outputs": []
    },
    {
      "cell_type": "markdown",
      "metadata": {
        "id": "HJkoQqkDiV-G"
      },
      "source": [
        "heatmap- correlation between all the features. here we can see that specialization is related to gender the most and then the previous degree they hold. it is also related to age, state, marital-status in a lighter way"
      ]
    },
    {
      "cell_type": "code",
      "metadata": {
        "colab": {
          "base_uri": "https://localhost:8080/",
          "height": 756
        },
        "id": "xSjAZZBxfrqQ",
        "outputId": "255a26ce-44d7-40f5-eba7-18a8df08d398"
      },
      "source": [
        "corr = np.corrcoef(train_data.corr())                        \n",
        "mask = np.zeros_like(corr)\n",
        "mask[np.triu_indices_from(mask)] = True\n",
        "\n",
        "fig, ax = plt.subplots(figsize=(10,10))\n",
        "sns.heatmap(train_data.corr(), annot=True,mask=mask,linewidths=.5,ax=ax)"
      ],
      "execution_count": null,
      "outputs": [
        {
          "output_type": "execute_result",
          "data": {
            "text/plain": [
              "<matplotlib.axes._subplots.AxesSubplot at 0x7f82bb7e2b10>"
            ]
          },
          "metadata": {},
          "execution_count": 13
        },
        {
          "output_type": "display_data",
          "data": {
            "image/png": "[encoded data removed]",
            "text/plain": [
              "<Figure size 720x720 with 2 Axes>"
            ]
          },
          "metadata": {
            "needs_background": "light"
          }
        }
      ]
    },
    {
      "cell_type": "markdown",
      "metadata": {
        "id": "ffxa8oaRZ9oO"
      },
      "source": [
        "This is a dataset of MBA admissions. Here through various graphs we are trying to infer the  various characteristics such as age,gender, background and how they affect the specialization they are choosing. here are few interesting results of them"
      ]
    },
    {
      "cell_type": "code",
      "metadata": {
        "colab": {
          "base_uri": "https://localhost:8080/",
          "height": 386
        },
        "id": "-5Iy3YL-GBdl",
        "outputId": "eca1c5f8-d1ef-47cf-b0c6-eca6ec2baec0"
      },
      "source": [
        "sns.catplot(x=\"Specialization\", y=\"Percentage_in_Under_Graduate\", kind=\"boxen\", data=train_data)\n",
        "# 0 - Finance\n",
        "# 3 - Marketing\n",
        "# 2 - LOS\n",
        "# 1 - HR"
      ],
      "execution_count": null,
      "outputs": [
        {
          "output_type": "execute_result",
          "data": {
            "text/plain": [
              "<seaborn.axisgrid.FacetGrid at 0x7f82b2950890>"
            ]
          },
          "metadata": {},
          "execution_count": 14
        },
        {
          "output_type": "display_data",
          "data": {
            "image/png": "[encoded data removed]",
            "text/plain": [
              "<Figure size 360x360 with 1 Axes>"
            ]
          },
          "metadata": {
            "needs_background": "light"
          }
        }
      ]
    },
    {
      "cell_type": "markdown",
      "metadata": {
        "id": "2bXw4h4aPJn4"
      },
      "source": [
        "From this graph it can be infered that people with higher score in under grad have opted finance as their specialization and overall people in HR is less."
      ]
    },
    {
      "cell_type": "code",
      "metadata": {
        "colab": {
          "base_uri": "https://localhost:8080/",
          "height": 420
        },
        "id": "jdHdB7fhHtnf",
        "outputId": "8b67db05-1fba-48be-ec0c-a5d8a1600b9d"
      },
      "source": [
        "sns.catplot(x=\"Marital_status\", y=\"Specialization\", hue=\"Gender\", kind=\"swarm\", data=train_data)\n",
        "#Marital Status - 1 = Single\n",
        "#               - 0 = Married\n",
        "# 0 - Finance\n",
        "# 3 - Marketing\n",
        "# 2 - LOS\n",
        "# 1 - HR\n"
      ],
      "execution_count": null,
      "outputs": [
        {
          "output_type": "stream",
          "name": "stderr",
          "text": [
            "/usr/local/lib/python3.7/dist-packages/seaborn/categorical.py:1296: UserWarning: 80.1% of the points cannot be placed; you may want to decrease the size of the markers or use stripplot.\n",
            "  warnings.warn(msg, UserWarning)\n"
          ]
        },
        {
          "output_type": "execute_result",
          "data": {
            "text/plain": [
              "<seaborn.axisgrid.FacetGrid at 0x7f82b1099990>"
            ]
          },
          "metadata": {},
          "execution_count": 15
        },
        {
          "output_type": "display_data",
          "data": {
            "image/png": "[encoded data removed]",
            "text/plain": [
              "<Figure size 411.875x360 with 1 Axes>"
            ]
          },
          "metadata": {
            "needs_background": "light"
          }
        }
      ]
    },
    {
      "cell_type": "markdown",
      "metadata": {
        "id": "x_kvuTsmPpn3"
      },
      "source": [
        "female percentage is more in HR and all the unmarried people in HR are female only. We see higher percentage of male in marketing. "
      ]
    },
    {
      "cell_type": "code",
      "metadata": {
        "id": "sbavDGzEJ36-",
        "colab": {
          "base_uri": "https://localhost:8080/",
          "height": 386
        },
        "outputId": "ede3a93e-3401-4aa7-920f-bd2a2ccc8950"
      },
      "source": [
        "sns.catplot(x=\"Specialization\",hue = \"Place_you_belong_to\" ,kind = \"count\", data=train_data.sort_values(\"Specialization\"))\n",
        "# 2 - Urban\n",
        "# 1 - Semi Urban\n",
        "# 0 - Rural\n",
        "\n",
        "# 0 - Finance\n",
        "# 3 - Marketing\n",
        "# 2 - LOS\n",
        "# 1 - HR"
      ],
      "execution_count": null,
      "outputs": [
        {
          "output_type": "execute_result",
          "data": {
            "text/plain": [
              "<seaborn.axisgrid.FacetGrid at 0x7f82bc781c10>"
            ]
          },
          "metadata": {},
          "execution_count": 16
        },
        {
          "output_type": "display_data",
          "data": {
            "image/png": "[encoded data removed]",
            "text/plain": [
              "<Figure size 471.75x360 with 1 Axes>"
            ]
          },
          "metadata": {
            "needs_background": "light"
          }
        }
      ]
    },
    {
      "cell_type": "markdown",
      "metadata": {
        "id": "l3CEbFKyUvSE"
      },
      "source": [
        "There is no one from rural background in HR. There is high difference in no.of people from urban and other sectors in MBA "
      ]
    },
    {
      "cell_type": "code",
      "metadata": {
        "colab": {
          "base_uri": "https://localhost:8080/",
          "height": 386
        },
        "id": "vwJHjMOYODfi",
        "outputId": "39535050-618f-4545-967c-6d8c5ea5a43e"
      },
      "source": [
        "sns.catplot(x=\"Specialization\", y=\"Age_in_years\", kind=\"box\", data=train_data)\n",
        "# 0 - Finance\n",
        "# 3 - Marketing\n",
        "# 2 - LOS\n",
        "# 1 - HR"
      ],
      "execution_count": null,
      "outputs": [
        {
          "output_type": "execute_result",
          "data": {
            "text/plain": [
              "<seaborn.axisgrid.FacetGrid at 0x7f82afcc2310>"
            ]
          },
          "metadata": {},
          "execution_count": 17
        },
        {
          "output_type": "display_data",
          "data": {
            "image/png": "[encoded data removed]",
            "text/plain": [
              "<Figure size 360x360 with 1 Axes>"
            ]
          },
          "metadata": {
            "needs_background": "light"
          }
        }
      ]
    },
    {
      "cell_type": "markdown",
      "metadata": {
        "id": "oe0SWWAYWDUX"
      },
      "source": [
        "Elder people are in LOS. There is a wide range in marketing. Both the people who pursue finance, HR and merketing are of almost the same age group"
      ]
    },
    {
      "cell_type": "code",
      "metadata": {
        "colab": {
          "base_uri": "https://localhost:8080/",
          "height": 386
        },
        "id": "tu4jYU41WqWg",
        "outputId": "ecc3b4ea-d15f-47c2-b9c0-a833517909eb"
      },
      "source": [
        "sns.catplot(x=\"Specialization\", y=\"Previous_Degree\", kind=\"violin\", inner=\"stick\",  data=train_data)\n",
        "#2,1,3,4,0 = 'Engineering', 'Commerce', 'Management', 'Science', 'Arts'\n",
        "\n",
        "# 0 - Finance\n",
        "# 3 - Marketing\n",
        "# 2 - LOS\n",
        "# 1 - HR"
      ],
      "execution_count": null,
      "outputs": [
        {
          "output_type": "execute_result",
          "data": {
            "text/plain": [
              "<seaborn.axisgrid.FacetGrid at 0x7f82afc17490>"
            ]
          },
          "metadata": {},
          "execution_count": 18
        },
        {
          "output_type": "display_data",
          "data": {
            "image/png": "[encoded data removed]",
            "text/plain": [
              "<Figure size 360x360 with 1 Axes>"
            ]
          },
          "metadata": {
            "needs_background": "light"
          }
        }
      ]
    },
    {
      "cell_type": "markdown",
      "metadata": {
        "id": "LtKsT8MAYlAE"
      },
      "source": [
        "There are more no.of people in finance from commerce, LOS from engineering. there is no one into marketing or LOS from arts"
      ]
    },
    {
      "cell_type": "code",
      "metadata": {
        "colab": {
          "base_uri": "https://localhost:8080/",
          "height": 261
        },
        "id": "mJZN50MmtsTO",
        "outputId": "41d1e229-eab6-4af9-d095-0f5b42f65438"
      },
      "source": [
        "g = sns.catplot(x=\"Specialization\", col=\"STATE\",\n",
        "                data=train_data[train_data.STATE.notnull()],                     \n",
        "                kind=\"count\", height=3.5)\n",
        "# 0 - Central # 1 - East # 2 - North East\n",
        "# 3 - North # 4 - Soth # 5 - West\n",
        "\n",
        "# 0 - Finance\n",
        "# 3 - Marketing\n",
        "# 2 - LOS\n",
        "# 1 - HR"
      ],
      "execution_count": null,
      "outputs": [
        {
          "output_type": "display_data",
          "data": {
            "image/png": "[encoded data removed]",
            "text/plain": [
              "<Figure size 1512x252 with 6 Axes>"
            ]
          },
          "metadata": {
            "needs_background": "light"
          }
        }
      ]
    },
    {
      "cell_type": "markdown",
      "metadata": {
        "id": "Xfh5LLZ41HTr"
      },
      "source": [
        "This must be a college located in south and most of the people studying here are from south followed by north. "
      ]
    },
    {
      "cell_type": "code",
      "metadata": {
        "id": "Jk8hdcIEw_f7"
      },
      "source": [
        "from sklearn.metrics import f1_score\n",
        "from sklearn.metrics import accuracy_score\n",
        "from sklearn.metrics import confusion_matrix\n",
        "from sklearn.metrics import recall_score\n",
        "from sklearn.metrics import precision_score\n",
        "#importing f1_score,accuracy_score,confusion_matrix from sklearn"
      ],
      "execution_count": null,
      "outputs": []
    },
    {
      "cell_type": "code",
      "metadata": {
        "id": "w400Rq-8PSvI"
      },
      "source": [
        "from sklearn.model_selection import train_test_split\n",
        "X = train_data[[\"Gender\", \"Age_in_years\", \"Marital_status\", \"Place_you_belong_to\", \"Previous_Degree\", \"Percentage_in_Under_Graduate\",\"STATE\"]]\n",
        "Y = train_data[[\"Specialization\"]]\n",
        "X = X.values\n",
        "Y = Y.values\n",
        "#print(type(X),type(Y))\n",
        "X, test_X, Y, test_Y = train_test_split(X, Y, test_size=0.1, random_state=42)\n"
      ],
      "execution_count": null,
      "outputs": []
    },
    {
      "cell_type": "markdown",
      "metadata": {
        "id": "STteEkaVzmrE"
      },
      "source": [
        "kNN implemented from scratch"
      ]
    },
    {
      "cell_type": "code",
      "metadata": {
        "id": "qenHG9VBR6HS"
      },
      "source": [
        "def eucledian(p1,p2):\n",
        "  dist = np.sqrt(np.sum((p1-p2)**2))\n",
        "  return dist\n",
        "\n",
        "def get_neighbours(train,trainY,test_row,k):\n",
        "  dist = list()\n",
        "  for i in range (train.shape[0]):\n",
        "    d= eucledian(train[i],test_row)\n",
        "    #print(d)\n",
        "    dist.append((train[i],d,trainY[i]))\n",
        "  #print(dist)\n",
        "  dist.sort(key=lambda tup:tup[1])\n",
        "  neighbors = list()\n",
        "  for i in range(k):\n",
        "    neighbors.append(dist[i][2])\n",
        "  #print(neighbors)\n",
        "  return neighbors,dist\n",
        "\n",
        "def predict_classification(train,trainY,test_row,k):\n",
        "  nbrs,dist = get_neighbours(train,trainY,test_row,k)\n",
        "  prediction = max(nbrs,key = nbrs.count)\n",
        "  return prediction"
      ],
      "execution_count": null,
      "outputs": []
    },
    {
      "cell_type": "code",
      "metadata": {
        "id": "GNH6uGb3SKgO"
      },
      "source": [
        "\n",
        "def run_model(X_train,y_train,X_test,y_test):\n",
        "  preds = []\n",
        "  accs=[]\n",
        "  ks = [3,5,7,9]\n",
        "  for k in ks:\n",
        "    acc = 0\n",
        "    for i in range(X_test.shape[0]):\n",
        "      #print(i,X_test[i])\n",
        "      prediction = predict_classification(X_train,y_train,X_test[i],k)\n",
        "      act_y = y_test[i]\n",
        "      #print(prediction,act_y)\n",
        "      preds.append(prediction)\n",
        "      acc += (act_y == prediction)\n",
        "    accuracy = acc/X_test.shape[0]\n",
        "    accs.append(accuracy)\n",
        "    print(accuracy)\n",
        "    #print(confusion_matrix(y_test, preds))\n",
        "  print(accs)\n",
        "  plt.plot(ks,accs)\n",
        "  \n"
      ],
      "execution_count": null,
      "outputs": []
    },
    {
      "cell_type": "markdown",
      "metadata": {
        "id": "6WpH5G_2flSL"
      },
      "source": [
        "Training"
      ]
    },
    {
      "cell_type": "code",
      "metadata": {
        "colab": {
          "base_uri": "https://localhost:8080/",
          "height": 775
        },
        "id": "WCnHlrd6QEQl",
        "outputId": "ff1d4da3-fd6b-4f68-a9da-0e8d623b19f5"
      },
      "source": [
        "from sklearn.model_selection import KFold \n",
        "\n",
        "kf = KFold(n_splits=5,  random_state=None)                                                 #kfold cross-validation\n",
        "x = 0\n",
        "for train_index, test_index in kf.split(X):\n",
        "  #print(\"Train:\", train_index, \"Validation:\",test_index)\n",
        "  x+=1\n",
        "  print(\"for fold \",x)\n",
        "  X_train, X_test = X[train_index], X[test_index] \n",
        "  y_train, y_test = Y[train_index], Y[test_index]\n",
        "  run_model(X_train,y_train,X_test,y_test)\n",
        "#accrs.append(sum(acs)/len(acs))\n",
        "\n",
        "#plt.plot(nfold)\n",
        "  #print(X_train.shape,X_test.shape,y_train.shape,y_test.shape)"
      ],
      "execution_count": null,
      "outputs": [
        {
          "output_type": "stream",
          "name": "stdout",
          "text": [
            "for fold  1\n",
            "[0.84705882]\n",
            "[0.77647059]\n",
            "[0.76470588]\n",
            "[0.70588235]\n",
            "[array([0.84705882]), array([0.77647059]), array([0.76470588]), array([0.70588235])]\n",
            "for fold  2\n",
            "[0.81176471]\n",
            "[0.75294118]\n",
            "[0.71764706]\n",
            "[0.65882353]\n",
            "[array([0.81176471]), array([0.75294118]), array([0.71764706]), array([0.65882353])]\n",
            "for fold  3\n",
            "[0.72941176]\n",
            "[0.64705882]\n",
            "[0.6]\n",
            "[0.55294118]\n",
            "[array([0.72941176]), array([0.64705882]), array([0.6]), array([0.55294118])]\n",
            "for fold  4\n",
            "[0.70588235]\n",
            "[0.6]\n",
            "[0.55294118]\n",
            "[0.48235294]\n",
            "[array([0.70588235]), array([0.6]), array([0.55294118]), array([0.48235294])]\n",
            "for fold  5\n",
            "[0.72941176]\n",
            "[0.65882353]\n",
            "[0.65882353]\n",
            "[0.6]\n",
            "[array([0.72941176]), array([0.65882353]), array([0.65882353]), array([0.6])]\n"
          ]
        },
        {
          "output_type": "display_data",
          "data": {
            "image/png": "[encoded data removed]",
            "text/plain": [
              "<Figure size 432x288 with 1 Axes>"
            ]
          },
          "metadata": {
            "needs_background": "light"
          }
        }
      ]
    },
    {
      "cell_type": "markdown",
      "metadata": {
        "id": "ovEBc08I5DM9"
      },
      "source": [
        "we observe that the accuracy is decreasing with increase in no.of k"
      ]
    },
    {
      "cell_type": "markdown",
      "metadata": {
        "id": "sD8kfMV4fibB"
      },
      "source": [
        "Testing "
      ]
    },
    {
      "cell_type": "code",
      "metadata": {
        "colab": {
          "base_uri": "https://localhost:8080/"
        },
        "id": "3milEG-2dIA3",
        "outputId": "83b0fe3f-4697-4e81-87d8-ed22990bf75e"
      },
      "source": [
        "acts = []\n",
        "k=3\n",
        "preds=[]\n",
        "acc=0\n",
        "for i in range(test_X.shape[0]):\n",
        "      #print(i,X_test[i])\n",
        "      prediction = predict_classification(X,Y,test_X[i],k)\n",
        "      act_y = test_Y[i]\n",
        "      #print(prediction,act_y)\n",
        "      acts.append(act_y)\n",
        "      preds.append(prediction)\n",
        "      acc += (act_y == prediction)\n",
        "accuracy = acc/test_X.shape[0]\n",
        "print(preds)\n",
        "print(accuracy)\n",
        "print(confusion_matrix(acts, preds))\n",
        "print(precision_score(acts,preds,average='weighted'))\n",
        "print(recall_score(acts,preds,average='weighted'))"
      ],
      "execution_count": null,
      "outputs": [
        {
          "output_type": "stream",
          "name": "stdout",
          "text": [
            "[array([0.]), array([1.]), array([1.]), array([0.]), array([3.]), array([0.]), array([3.]), array([3.]), array([0.]), array([3.]), array([2.]), array([0.]), array([3.]), array([3.]), array([3.]), array([3.]), array([2.]), array([2.]), array([3.]), array([0.]), array([3.]), array([3.]), array([0.]), array([0.]), array([0.]), array([0.]), array([3.]), array([0.]), array([0.]), array([3.]), array([0.]), array([2.]), array([0.]), array([0.]), array([2.]), array([1.]), array([3.]), array([2.]), array([3.]), array([3.]), array([0.]), array([3.]), array([0.]), array([2.]), array([3.]), array([3.]), array([3.]), array([3.])]\n",
            "[0.89583333]\n",
            "[[16  1  0  0]\n",
            " [ 1  0  0  0]\n",
            " [ 0  0  7  1]\n",
            " [ 0  2  0 20]]\n",
            "0.9365079365079364\n",
            "0.8958333333333334\n"
          ]
        }
      ]
    },
    {
      "cell_type": "markdown",
      "metadata": {
        "id": "HEXpQ1Xw0pa-"
      },
      "source": [
        "inbuilt kNN"
      ]
    },
    {
      "cell_type": "code",
      "metadata": {
        "colab": {
          "base_uri": "https://localhost:8080/"
        },
        "id": "3MZCbsORxWhQ",
        "outputId": "39407c7e-7f56-406f-b02b-132dec07e60b"
      },
      "source": [
        "from sklearn.neighbors import KNeighborsClassifier\n",
        "classifier = KNeighborsClassifier(n_neighbors=5)\n",
        "classifier.fit(X, Y)\n",
        "knn_pred = classifier.predict(test_X)\n",
        "knn_acc = accuracy_score(test_Y,knn_pred)\n",
        "print(knn_acc)\n",
        "print(confusion_matrix(test_Y, knn_pred))\n",
        "print(precision_score(test_Y,knn_pred,average='weighted'))\n",
        "print(recall_score(test_Y,knn_pred,average='weighted'))"
      ],
      "execution_count": null,
      "outputs": [
        {
          "output_type": "stream",
          "name": "stdout",
          "text": [
            "0.7708333333333334\n",
            "[[10  0  1  6]\n",
            " [ 1  0  0  0]\n",
            " [ 0  0  7  1]\n",
            " [ 2  0  0 20]]\n",
            "0.7577754036087369\n",
            "0.7708333333333334\n"
          ]
        },
        {
          "output_type": "stream",
          "name": "stderr",
          "text": [
            "/usr/local/lib/python3.7/dist-packages/ipykernel_launcher.py:3: DataConversionWarning: A column-vector y was passed when a 1d array was expected. Please change the shape of y to (n_samples, ), for example using ravel().\n",
            "  This is separate from the ipykernel package so we can avoid doing imports until\n",
            "/usr/local/lib/python3.7/dist-packages/sklearn/metrics/_classification.py:1272: UndefinedMetricWarning: Precision is ill-defined and being set to 0.0 in labels with no predicted samples. Use `zero_division` parameter to control this behavior.\n",
            "  _warn_prf(average, modifier, msg_start, len(result))\n"
          ]
        }
      ]
    },
    {
      "cell_type": "markdown",
      "metadata": {
        "id": "O_QpT4Xwmt6L"
      },
      "source": [
        "SVM"
      ]
    },
    {
      "cell_type": "code",
      "metadata": {
        "id": "CeUFtwVrW5zR"
      },
      "source": [
        "from sklearn import svm"
      ],
      "execution_count": null,
      "outputs": []
    },
    {
      "cell_type": "code",
      "metadata": {
        "colab": {
          "base_uri": "https://localhost:8080/"
        },
        "id": "qGB1WU3RnBZW",
        "outputId": "102650a3-59b3-422d-8134-55921e291541"
      },
      "source": [
        "rbf_model = svm.SVC(kernel='rbf', gamma=0.5, C = 1.0).fit(X,Y)\n",
        "rbf_pred = rbf_model.predict(test_X)\n",
        "\n",
        "rbf_acc = accuracy_score(test_Y,rbf_pred)\n",
        "rbf_f1 = f1_score(test_Y,rbf_pred, average = \"weighted\")\n",
        "print(confusion_matrix(test_Y, rbf_pred))\n",
        "print(rbf_acc,rbf_f1)\n",
        "print(precision_score(test_Y,rbf_pred,average='weighted'))\n",
        "print(recall_score(test_Y,rbf_pred,average='weighted'))"
      ],
      "execution_count": null,
      "outputs": [
        {
          "output_type": "stream",
          "name": "stdout",
          "text": [
            "[[17  0  0  0]\n",
            " [ 0  1  0  0]\n",
            " [ 0  0  7  1]\n",
            " [ 0  0  0 22]]\n",
            "0.9791666666666666 0.9787037037037036\n",
            "0.9800724637681159\n",
            "0.9791666666666666\n"
          ]
        },
        {
          "output_type": "stream",
          "name": "stderr",
          "text": [
            "/usr/local/lib/python3.7/dist-packages/sklearn/utils/validation.py:760: DataConversionWarning: A column-vector y was passed when a 1d array was expected. Please change the shape of y to (n_samples, ), for example using ravel().\n",
            "  y = column_or_1d(y, warn=True)\n"
          ]
        }
      ]
    },
    {
      "cell_type": "code",
      "metadata": {
        "colab": {
          "base_uri": "https://localhost:8080/"
        },
        "id": "O2SgKD1HoYR2",
        "outputId": "a7622a3b-2b0f-48c5-b729-3280c75fe4e5"
      },
      "source": [
        "poly_model = svm.SVC(kernel='poly', gamma=0.3, C = 1, degree=3).fit(X,Y)\n",
        "poly_pred = poly_model.predict(test_X)\n",
        "\n",
        "poly_acc = accuracy_score(test_Y,poly_pred)\n",
        "poly_f1 = f1_score(test_Y,poly_pred, average = \"weighted\")\n",
        "print(poly_acc,poly_f1)\n",
        "print(confusion_matrix(test_Y, poly_pred))\n",
        "print(precision_score(test_Y,poly_pred,average='weighted'))\n",
        "print(recall_score(test_Y,poly_pred,average='weighted'))"
      ],
      "execution_count": null,
      "outputs": [
        {
          "output_type": "stream",
          "name": "stderr",
          "text": [
            "/usr/local/lib/python3.7/dist-packages/sklearn/utils/validation.py:760: DataConversionWarning: A column-vector y was passed when a 1d array was expected. Please change the shape of y to (n_samples, ), for example using ravel().\n",
            "  y = column_or_1d(y, warn=True)\n"
          ]
        },
        {
          "output_type": "stream",
          "name": "stdout",
          "text": [
            "0.6041666666666666 0.6173558897243108\n",
            "[[11  2  2  2]\n",
            " [ 1  0  0  0]\n",
            " [ 0  0  6  2]\n",
            " [ 6  1  3 12]]\n",
            "0.6510942760942761\n",
            "0.6041666666666666\n"
          ]
        }
      ]
    },
    {
      "cell_type": "markdown",
      "metadata": {
        "id": "cDacwcLNyaSS"
      },
      "source": [
        "Logistic Regression implementation"
      ]
    },
    {
      "cell_type": "code",
      "metadata": {
        "id": "pFEH6VoUx2Gt"
      },
      "source": [
        "def hypothesis(theta, X):\n",
        "    return 1 / (1 + np.exp(-(np.dot(theta, X.T)))) "
      ],
      "execution_count": null,
      "outputs": []
    },
    {
      "cell_type": "code",
      "metadata": {
        "id": "5GI0DRVbyneU"
      },
      "source": [
        "def cost(X, y, theta):\n",
        "    y1 = hypothesis(X, theta)\n",
        "    return -(1/len(X)) * np.sum(y*np.log(y1) + (1-y)*np.log(1-y1))"
      ],
      "execution_count": null,
      "outputs": []
    },
    {
      "cell_type": "code",
      "metadata": {
        "colab": {
          "base_uri": "https://localhost:8080/"
        },
        "id": "iZnXQm69_DMB",
        "outputId": "e0ef51b3-f87f-4754-dfaa-8cfc925ac202"
      },
      "source": [
        "X = pd.DataFrame(X)\n",
        "print(X.shape[0])\n",
        "x = pd.concat([pd.Series(1, index=X.index, name='00'), X], axis=1)\n",
        "print(x.shape[0])"
      ],
      "execution_count": null,
      "outputs": [
        {
          "output_type": "stream",
          "name": "stdout",
          "text": [
            "473\n",
            "473\n"
          ]
        }
      ]
    },
    {
      "cell_type": "code",
      "metadata": {
        "colab": {
          "base_uri": "https://localhost:8080/"
        },
        "id": "y2m7Ve-z-miu",
        "outputId": "92bb414e-46cc-49d8-ca4d-5c2663bf0c4e"
      },
      "source": [
        "Y = pd.DataFrame(Y)\n",
        "print(len(Y))\n",
        "y = Y.iloc[:, 0]\n",
        "y.head()"
      ],
      "execution_count": null,
      "outputs": [
        {
          "output_type": "stream",
          "name": "stdout",
          "text": [
            "473\n"
          ]
        },
        {
          "output_type": "execute_result",
          "data": {
            "text/plain": [
              "0    3.0\n",
              "1    2.0\n",
              "2    0.0\n",
              "3    0.0\n",
              "4    0.0\n",
              "Name: 0, dtype: float64"
            ]
          },
          "metadata": {},
          "execution_count": 38
        }
      ]
    },
    {
      "cell_type": "code",
      "metadata": {
        "colab": {
          "base_uri": "https://localhost:8080/"
        },
        "id": "taBfmsm7_YUj",
        "outputId": "e3f62946-49b7-46de-bc43-fbaec1437b21"
      },
      "source": [
        "y.unique()"
      ],
      "execution_count": null,
      "outputs": [
        {
          "output_type": "execute_result",
          "data": {
            "text/plain": [
              "array([3., 2., 0., 1.])"
            ]
          },
          "metadata": {},
          "execution_count": 39
        }
      ]
    },
    {
      "cell_type": "code",
      "metadata": {
        "colab": {
          "base_uri": "https://localhost:8080/",
          "height": 204
        },
        "id": "9WlI47W-_7ud",
        "outputId": "71057fad-e13f-4c7f-804d-e1edb30ba834"
      },
      "source": [
        "y1 = np.zeros([X.shape[0], len(y.unique())])\n",
        "y1 = pd.DataFrame(y1)\n",
        "y1.head()"
      ],
      "execution_count": null,
      "outputs": [
        {
          "output_type": "execute_result",
          "data": {
            "text/html": [
              "<div>\n",
              "<style scoped>\n",
              "    .dataframe tbody tr th:only-of-type {\n",
              "        vertical-align: middle;\n",
              "    }\n",
              "\n",
              "    .dataframe tbody tr th {\n",
              "        vertical-align: top;\n",
              "    }\n",
              "\n",
              "    .dataframe thead th {\n",
              "        text-align: right;\n",
              "    }\n",
              "</style>\n",
              "<table border=\"1\" class=\"dataframe\">\n",
              "  <thead>\n",
              "    <tr style=\"text-align: right;\">\n",
              "      <th></th>\n",
              "      <th>0</th>\n",
              "      <th>1</th>\n",
              "      <th>2</th>\n",
              "      <th>3</th>\n",
              "    </tr>\n",
              "  </thead>\n",
              "  <tbody>\n",
              "    <tr>\n",
              "      <th>0</th>\n",
              "      <td>0.0</td>\n",
              "      <td>0.0</td>\n",
              "      <td>0.0</td>\n",
              "      <td>0.0</td>\n",
              "    </tr>\n",
              "    <tr>\n",
              "      <th>1</th>\n",
              "      <td>0.0</td>\n",
              "      <td>0.0</td>\n",
              "      <td>0.0</td>\n",
              "      <td>0.0</td>\n",
              "    </tr>\n",
              "    <tr>\n",
              "      <th>2</th>\n",
              "      <td>0.0</td>\n",
              "      <td>0.0</td>\n",
              "      <td>0.0</td>\n",
              "      <td>0.0</td>\n",
              "    </tr>\n",
              "    <tr>\n",
              "      <th>3</th>\n",
              "      <td>0.0</td>\n",
              "      <td>0.0</td>\n",
              "      <td>0.0</td>\n",
              "      <td>0.0</td>\n",
              "    </tr>\n",
              "    <tr>\n",
              "      <th>4</th>\n",
              "      <td>0.0</td>\n",
              "      <td>0.0</td>\n",
              "      <td>0.0</td>\n",
              "      <td>0.0</td>\n",
              "    </tr>\n",
              "  </tbody>\n",
              "</table>\n",
              "</div>"
            ],
            "text/plain": [
              "     0    1    2    3\n",
              "0  0.0  0.0  0.0  0.0\n",
              "1  0.0  0.0  0.0  0.0\n",
              "2  0.0  0.0  0.0  0.0\n",
              "3  0.0  0.0  0.0  0.0\n",
              "4  0.0  0.0  0.0  0.0"
            ]
          },
          "metadata": {},
          "execution_count": 40
        }
      ]
    },
    {
      "cell_type": "code",
      "metadata": {
        "colab": {
          "base_uri": "https://localhost:8080/",
          "height": 204
        },
        "id": "5AFzewohyp9v",
        "outputId": "74ee5bd5-daa5-4aaa-faa0-a605c7c5d2a7"
      },
      "source": [
        "for i in range(0, len(y.unique())):\n",
        "    for j in range(0, len(y1)):\n",
        "        if y[j] == y.unique()[i]:\n",
        "            y1.iloc[j, i] = 1\n",
        "        else: \n",
        "            y1.iloc[j, i] = 0\n",
        "y1.head()"
      ],
      "execution_count": null,
      "outputs": [
        {
          "output_type": "execute_result",
          "data": {
            "text/html": [
              "<div>\n",
              "<style scoped>\n",
              "    .dataframe tbody tr th:only-of-type {\n",
              "        vertical-align: middle;\n",
              "    }\n",
              "\n",
              "    .dataframe tbody tr th {\n",
              "        vertical-align: top;\n",
              "    }\n",
              "\n",
              "    .dataframe thead th {\n",
              "        text-align: right;\n",
              "    }\n",
              "</style>\n",
              "<table border=\"1\" class=\"dataframe\">\n",
              "  <thead>\n",
              "    <tr style=\"text-align: right;\">\n",
              "      <th></th>\n",
              "      <th>0</th>\n",
              "      <th>1</th>\n",
              "      <th>2</th>\n",
              "      <th>3</th>\n",
              "    </tr>\n",
              "  </thead>\n",
              "  <tbody>\n",
              "    <tr>\n",
              "      <th>0</th>\n",
              "      <td>1.0</td>\n",
              "      <td>0.0</td>\n",
              "      <td>0.0</td>\n",
              "      <td>0.0</td>\n",
              "    </tr>\n",
              "    <tr>\n",
              "      <th>1</th>\n",
              "      <td>0.0</td>\n",
              "      <td>1.0</td>\n",
              "      <td>0.0</td>\n",
              "      <td>0.0</td>\n",
              "    </tr>\n",
              "    <tr>\n",
              "      <th>2</th>\n",
              "      <td>0.0</td>\n",
              "      <td>0.0</td>\n",
              "      <td>1.0</td>\n",
              "      <td>0.0</td>\n",
              "    </tr>\n",
              "    <tr>\n",
              "      <th>3</th>\n",
              "      <td>0.0</td>\n",
              "      <td>0.0</td>\n",
              "      <td>1.0</td>\n",
              "      <td>0.0</td>\n",
              "    </tr>\n",
              "    <tr>\n",
              "      <th>4</th>\n",
              "      <td>0.0</td>\n",
              "      <td>0.0</td>\n",
              "      <td>1.0</td>\n",
              "      <td>0.0</td>\n",
              "    </tr>\n",
              "  </tbody>\n",
              "</table>\n",
              "</div>"
            ],
            "text/plain": [
              "     0    1    2    3\n",
              "0  1.0  0.0  0.0  0.0\n",
              "1  0.0  1.0  0.0  0.0\n",
              "2  0.0  0.0  1.0  0.0\n",
              "3  0.0  0.0  1.0  0.0\n",
              "4  0.0  0.0  1.0  0.0"
            ]
          },
          "metadata": {},
          "execution_count": 41
        }
      ]
    },
    {
      "cell_type": "code",
      "metadata": {
        "id": "SdBzWjO80Laf"
      },
      "source": [
        "def gradient_descent(x, y, theta, alpha, epochs):\n",
        "    m = len(x)\n",
        "    for i in range(0, epochs):\n",
        "        for j in range(0, 4):\n",
        "            theta = pd.DataFrame(theta)\n",
        "            h = hypothesis(theta.iloc[:,j], x)\n",
        "            for k in range(0, theta.shape[0]):\n",
        "                theta.iloc[k, j] -= (alpha/m) * np.sum((h-y.iloc[:, j])*x.iloc[:, k])\n",
        "            theta = pd.DataFrame(theta)\n",
        "    return theta"
      ],
      "execution_count": null,
      "outputs": []
    },
    {
      "cell_type": "code",
      "metadata": {
        "colab": {
          "base_uri": "https://localhost:8080/"
        },
        "id": "aaOw-SvJ0eBI",
        "outputId": "32bef832-c7fc-4bf1-942c-1f969e93a956"
      },
      "source": [
        "theta = np.zeros([X.shape[1]+1, y1.shape[1]])\n",
        "print(theta.shape,x.shape)\n",
        "theta = gradient_descent(x, y1, theta, 0.05, 2000)\n",
        "print(theta)"
      ],
      "execution_count": null,
      "outputs": [
        {
          "output_type": "stream",
          "name": "stdout",
          "text": [
            "(8, 4) (473, 8)\n",
            "          0         1          2         3\n",
            "0  0.447314 -0.479122  -0.047296 -0.068435\n",
            "1  5.847383  0.344114  -3.493811 -2.949004\n",
            "2 -0.630922  5.587097  -6.045220 -3.022441\n",
            "3  1.272007 -1.200567   0.613120 -0.878626\n",
            "4  2.590753 -6.858764   1.628012  2.887586\n",
            "5  3.759363  1.481577 -11.109439  3.829235\n",
            "6  0.900079 -1.531225   1.901041 -0.965749\n",
            "7  0.632011  4.744113  -9.296108  1.391811\n"
          ]
        }
      ]
    },
    {
      "cell_type": "code",
      "metadata": {
        "colab": {
          "base_uri": "https://localhost:8080/"
        },
        "id": "Tyac1VMeJGxc",
        "outputId": "0c6087ff-4c38-4807-9733-7f44691cd4eb"
      },
      "source": [
        "print(theta.shape)"
      ],
      "execution_count": null,
      "outputs": [
        {
          "output_type": "stream",
          "name": "stdout",
          "text": [
            "(8, 4)\n"
          ]
        }
      ]
    },
    {
      "cell_type": "code",
      "metadata": {
        "colab": {
          "base_uri": "https://localhost:8080/"
        },
        "id": "YqlpYB0PNwKO",
        "outputId": "9a0f7eba-b5d8-4fea-ee61-d4a357ab964e"
      },
      "source": [
        "print(x)"
      ],
      "execution_count": null,
      "outputs": [
        {
          "output_type": "stream",
          "name": "stdout",
          "text": [
            "     00    0     1    2    3    4      5    6\n",
            "0     1  1.0  22.0  1.0  2.0  2.0  72.00  0.0\n",
            "1     1  1.0  25.0  1.0  1.0  2.0  76.90  0.0\n",
            "2     1  0.0  26.0  1.0  2.0  2.0  77.00  0.0\n",
            "3     1  1.0  22.0  1.0  1.0  1.0  67.00  0.0\n",
            "4     1  0.0  24.0  1.0  2.0  2.0  60.33  0.0\n",
            "..   ..  ...   ...  ...  ...  ...    ...  ...\n",
            "468   1  1.0  22.0  1.0  2.0  2.0  75.43  0.0\n",
            "469   1  1.0  25.0  1.0  1.0  2.0  76.90  0.0\n",
            "470   1  0.0  26.0  1.0  2.0  2.0  77.00  0.0\n",
            "471   1  1.0  22.0  1.0  1.0  1.0  67.00  0.0\n",
            "472   1  0.0  24.0  1.0  2.0  2.0  60.33  0.0\n",
            "\n",
            "[473 rows x 8 columns]\n"
          ]
        }
      ]
    },
    {
      "cell_type": "code",
      "metadata": {
        "id": "O1YTmLCk0zDz"
      },
      "source": [
        "output = []\n",
        "for i in range(0, 4):\n",
        "    theta1 = pd.DataFrame(theta)\n",
        "    h = hypothesis(theta1.iloc[:,i], x)\n",
        "    output.append(h)\n",
        "output=pd.DataFrame(output)"
      ],
      "execution_count": null,
      "outputs": []
    },
    {
      "cell_type": "code",
      "metadata": {
        "colab": {
          "base_uri": "https://localhost:8080/"
        },
        "id": "0lJqUJauNPIp",
        "outputId": "525b83ea-dc22-4aa9-8060-1ea7a40c3179"
      },
      "source": [
        "print(output)"
      ],
      "execution_count": null,
      "outputs": [
        {
          "output_type": "stream",
          "name": "stdout",
          "text": [
            "            0             1    ...           471           472\n",
            "0  1.000000e+00  1.000000e+00  ...  1.000000e+00  1.000000e+00\n",
            "1  6.406042e-01  9.999999e-01  ...  9.999988e-01  1.000000e+00\n",
            "2  1.506773e-08  4.368094e-13  ...  1.471367e-08  6.451950e-22\n",
            "3  1.164280e-55  6.590992e-63  ...  1.762291e-56  4.132022e-52\n",
            "\n",
            "[4 rows x 473 columns]\n"
          ]
        }
      ]
    },
    {
      "cell_type": "code",
      "metadata": {
        "id": "7PBtF1jK06Cn",
        "colab": {
          "base_uri": "https://localhost:8080/"
        },
        "outputId": "c8bc6a3e-96c0-4de2-8539-b98c0ec3e223"
      },
      "source": [
        "accuracy = 0\n",
        "for col in range(0, 4):\n",
        "    for row in range(len(y1)):\n",
        "        if y1.iloc[row, col] == 1 and output.iloc[col, row] >= 0.5:\n",
        "            accuracy += 1\n",
        "acc = (accuracy/len(x))\n",
        "print(acc)"
      ],
      "execution_count": null,
      "outputs": [
        {
          "output_type": "stream",
          "name": "stdout",
          "text": [
            "0.6173361522198731\n"
          ]
        }
      ]
    },
    {
      "cell_type": "markdown",
      "metadata": {
        "id": "r1Klb2Mm5YTT"
      },
      "source": [
        "Logistic regression for multiclass inbuilt"
      ]
    },
    {
      "cell_type": "code",
      "metadata": {
        "colab": {
          "base_uri": "https://localhost:8080/"
        },
        "id": "QTEInVYh25eq",
        "outputId": "91b8c01d-56ef-49b7-bc9f-674dbdccf16e"
      },
      "source": [
        "from sklearn.linear_model import LogisticRegression\n",
        "\n",
        "log = LogisticRegression(max_iter=2000,multi_class='ovr').fit(X, Y)     #multi_class selected to ovr or multinomial lets multiclassification\n",
        "log_pred = log.predict(test_X)\n",
        "\n",
        "log_acc = accuracy_score(test_Y,log_pred)\n",
        "log_f1 = f1_score(test_Y,log_pred,average=\"weighted\")\n",
        "print(confusion_matrix(test_Y, log_pred))\n",
        "print(log_acc,log_f1)\n"
      ],
      "execution_count": null,
      "outputs": [
        {
          "output_type": "stream",
          "name": "stdout",
          "text": [
            "[[12  0  3  2]\n",
            " [ 0  1  0  0]\n",
            " [ 2  0  6  0]\n",
            " [ 6  0  2 14]]\n",
            "0.6875 0.6935455192034139\n"
          ]
        },
        {
          "output_type": "stream",
          "name": "stderr",
          "text": [
            "/usr/local/lib/python3.7/dist-packages/sklearn/utils/validation.py:760: DataConversionWarning: A column-vector y was passed when a 1d array was expected. Please change the shape of y to (n_samples, ), for example using ravel().\n",
            "  y = column_or_1d(y, warn=True)\n"
          ]
        }
      ]
    },
    {
      "cell_type": "code",
      "metadata": {
        "colab": {
          "base_uri": "https://localhost:8080/"
        },
        "id": "zcCiIwVp_1ji",
        "outputId": "0eda109e-578b-4250-f9e6-9e32211b6c0f"
      },
      "source": [
        "log = LogisticRegression(solver='lbfgs',max_iter=2000,multi_class='multinomial').fit(X, Y)     #multi_class selected to ovr or multinomial lets multiclassification\n",
        "log_pred1 = log.predict(test_X)\n",
        "\n",
        "log_acc1 = accuracy_score(test_Y,log_pred1)\n",
        "log_f11 = f1_score(test_Y,log_pred1,average=\"weighted\")\n",
        "print(confusion_matrix(test_Y, log_pred1))\n",
        "print(log_acc1,log_f11)"
      ],
      "execution_count": null,
      "outputs": [
        {
          "output_type": "stream",
          "name": "stderr",
          "text": [
            "/usr/local/lib/python3.7/dist-packages/sklearn/utils/validation.py:760: DataConversionWarning: A column-vector y was passed when a 1d array was expected. Please change the shape of y to (n_samples, ), for example using ravel().\n",
            "  y = column_or_1d(y, warn=True)\n"
          ]
        },
        {
          "output_type": "stream",
          "name": "stdout",
          "text": [
            "[[12  0  3  2]\n",
            " [ 0  1  0  0]\n",
            " [ 2  0  6  0]\n",
            " [ 6  0  2 14]]\n",
            "0.6875 0.6935455192034139\n"
          ]
        }
      ]
    },
    {
      "cell_type": "markdown",
      "metadata": {
        "id": "bY3mS4GJyY4a"
      },
      "source": [
        "**Comparisons**"
      ]
    },
    {
      "cell_type": "code",
      "metadata": {
        "colab": {
          "base_uri": "https://localhost:8080/",
          "height": 283
        },
        "id": "znnUeFBY5mZI",
        "outputId": "3803a7df-8d08-4dfc-9bd3-54a581865140"
      },
      "source": [
        "accuracies_comp = [knn_acc,rbf_acc,poly_acc,log_acc]\n",
        "algos = [\"knn\",\"rbf_svm\",\"poly_svm\",\"logistic\"]\n",
        "plt.plot(algos,accuracies_comp)\n"
      ],
      "execution_count": null,
      "outputs": [
        {
          "output_type": "execute_result",
          "data": {
            "text/plain": [
              "[<matplotlib.lines.Line2D at 0x7f7b1698da50>]"
            ]
          },
          "metadata": {},
          "execution_count": 50
        },
        {
          "output_type": "display_data",
          "data": {
            "image/png": "[encoded data removed]",
            "text/plain": [
              "<Figure size 432x288 with 1 Axes>"
            ]
          },
          "metadata": {
            "needs_background": "light"
          }
        }
      ]
    }
  ]
}